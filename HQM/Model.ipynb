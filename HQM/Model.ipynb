{
 "cells": [
  {
   "cell_type": "code",
   "execution_count": 49,
   "id": "4f4da56f",
   "metadata": {},
   "outputs": [
    {
     "name": "stdout",
     "output_type": "stream",
     "text": [
      "(94477, 468) (94477,)\n",
      "<class 'numpy.ndarray'> <class 'numpy.ndarray'>\n"
     ]
    }
   ],
   "source": [
    "import torch\n",
    "import torch.nn as nn\n",
    "import numpy as np\n",
    "import torch.optim as optim\n",
    "from torch.utils.data import DataLoader, Dataset\n",
    "import matplotlib.pyplot as plt\n",
    "import ipympl\n",
    "\n",
    "inputs = np.load('inputs.npy')\n",
    "labels = np.load('labels.npy')\n",
    "#inputs = np.load('inputs_small.npy', allow_pickle=True)\n",
    "#labels = np.load('labels_small.npy', allow_pickle=True)\n",
    "print(inputs.shape,labels.shape)\n",
    "print(type(inputs),type(labels))\n",
    "\n",
    "# Convert the input array to a PyTorch tensor\n",
    "inputs = torch.tensor(inputs, dtype=torch.float32)\n",
    "\n",
    "# Convert the labels to a PyTorch tensor\n",
    "labels = torch.tensor(labels, dtype=torch.long)"
   ]
  },
  {
   "cell_type": "code",
   "execution_count": 50,
   "id": "629aa51a",
   "metadata": {},
   "outputs": [],
   "source": [
    "#!pip install scikit-learn"
   ]
  },
  {
   "cell_type": "code",
   "execution_count": 51,
   "id": "00db44d0",
   "metadata": {},
   "outputs": [
    {
     "name": "stdout",
     "output_type": "stream",
     "text": [
      "torch.Size([75581, 468])\n"
     ]
    }
   ],
   "source": [
    "from sklearn.model_selection import train_test_split\n",
    "\n",
    "inputs_train, inputs_test, labels_train, labels_test = train_test_split(inputs, \n",
    "                                                    labels, \n",
    "                                                    test_size=0.2, # 20% test, 80% train\n",
    "                                                    random_state=42) # make the random split reproducible\n",
    "\n",
    "len(inputs_train), len(inputs_test), len(labels_train), len(labels_test)\n",
    "print(inputs_train.shape)"
   ]
  },
  {
   "cell_type": "code",
   "execution_count": 52,
   "id": "24831faf",
   "metadata": {},
   "outputs": [],
   "source": [
    "class CustomDataset(Dataset):\n",
    "    def __init__(self, X, Y):\n",
    "        self.X, self.Y = X, Y     \n",
    "\n",
    "    def __len__(self):\n",
    "        return len(self.X,)\n",
    "\n",
    "    def __getitem__(self, idx):\n",
    "        return self.X[idx],self.Y[idx]\n",
    "train_data = CustomDataset(inputs_train,labels_train)\n",
    "test_data = CustomDataset(inputs_test,labels_test)\n",
    "BATCH_SIZE = 32\n",
    "train_dataloader = DataLoader(train_data, batch_size=BATCH_SIZE, shuffle=True)\n",
    "test_dataloader = DataLoader(test_data, batch_size=BATCH_SIZE, shuffle=True)"
   ]
  },
  {
   "cell_type": "code",
   "execution_count": 53,
   "id": "08254c64",
   "metadata": {},
   "outputs": [
    {
     "name": "stdout",
     "output_type": "stream",
     "text": [
      "Dataloaders: (<torch.utils.data.dataloader.DataLoader object at 0x7f9fd0668eb0>, <torch.utils.data.dataloader.DataLoader object at 0x7fa00403e9d0>)\n",
      "Length of train dataloader: 2362 batches of 32\n",
      "Length of test dataloader: 591 batches of 32\n"
     ]
    }
   ],
   "source": [
    "# Let's check out what we've created\n",
    "print(f\"Dataloaders: {train_dataloader, test_dataloader}\") \n",
    "print(f\"Length of train dataloader: {len(train_dataloader)} batches of {BATCH_SIZE}\")\n",
    "print(f\"Length of test dataloader: {len(test_dataloader)} batches of {BATCH_SIZE}\")"
   ]
  },
  {
   "cell_type": "code",
   "execution_count": 54,
   "id": "ea9a5184",
   "metadata": {},
   "outputs": [],
   "source": [
    "# Define the number of features in the input data\n",
    "n_features = inputs.shape[1]\n",
    "\n",
    "# Define the number of classes to classify the data into\n",
    "n_classes = 250\n",
    "\n",
    "# Define the neural network architecture\n",
    "class NeuralNet(nn.Module):\n",
    "    def __init__(self,n_features=3258, n_classes=250):\n",
    "        super(NeuralNet, self).__init__()\n",
    "        self.fc1 = nn.Linear(n_features, 512)\n",
    "        self.fc2 = nn.Linear(512, 256)\n",
    "        self.fc3 = nn.Linear(256, n_classes)\n",
    "        self.relu = nn.ReLU()\n",
    "        self.softmax = nn.Softmax(dim=1)\n",
    "\n",
    "    def forward(self, x):\n",
    "        x = self.relu(self.fc1(x))\n",
    "        x = self.relu(self.fc2(x))\n",
    "        x = self.softmax(self.fc3(x))\n",
    "        return x\n",
    "\n",
    "\n",
    "class NeuralNet(nn.Module):\n",
    "    def __init__(self, n_features=3258, n_classes=250, dropout_rate=0.2):\n",
    "        super(NeuralNet, self).__init__()\n",
    "        self.fc1 = nn.Linear(n_features, 512)\n",
    "        self.bn1 = nn.BatchNorm1d(512)\n",
    "        self.dropout1 = nn.Dropout(dropout_rate)\n",
    "        self.fc2 = nn.Linear(512, 256)\n",
    "        self.bn2 = nn.BatchNorm1d(256)\n",
    "        self.dropout2 = nn.Dropout(dropout_rate)\n",
    "        self.fc3 = nn.Linear(256, 256)\n",
    "        self.bn3 = nn.BatchNorm1d(256)\n",
    "        self.dropout3 = nn.Dropout(dropout_rate)\n",
    "        self.fc4 = nn.Linear(256, n_classes)\n",
    "        self.relu = nn.ReLU()\n",
    "        self.softmax = nn.Softmax(dim=1)\n",
    "\n",
    "    def forward(self, x):\n",
    "        x = self.relu(self.bn1(self.fc1(x)))\n",
    "        x = self.dropout1(x)\n",
    "        x = self.relu(self.bn2(self.fc2(x)))\n",
    "        x = self.dropout2(x)\n",
    "        x = self.relu(self.bn3(self.fc3(x)))\n",
    "        x = self.dropout3(x)\n",
    "        x = self.softmax(self.fc4(x))\n",
    "        return x   \n"
   ]
  },
  {
   "cell_type": "code",
   "execution_count": 55,
   "id": "9f4f8fd9",
   "metadata": {},
   "outputs": [],
   "source": [
    "def accuracy_fn(y_true, y_pred):\n",
    "    correct = torch.eq(y_true, y_pred).sum().item() # torch.eq() calculates where two tensors are equal\n",
    "    acc = (correct / len(y_pred)) * 100 \n",
    "    return acc"
   ]
  },
  {
   "cell_type": "code",
   "execution_count": 56,
   "id": "1046f72c",
   "metadata": {},
   "outputs": [],
   "source": [
    "# Create an instance of the neural network\n",
    "model = NeuralNet(n_features=n_features, n_classes=n_classes,dropout_rate=0.2)"
   ]
  },
  {
   "cell_type": "code",
   "execution_count": 57,
   "id": "bd076926",
   "metadata": {},
   "outputs": [],
   "source": [
    "def train_step(model,dataloader,loss_fn,optimizer):\n",
    "    # Put model in train mode\n",
    "    model.train()\n",
    "    \n",
    "    # Setup train loss and train accuracy values\n",
    "    train_loss, train_acc = 0, 0\n",
    "    \n",
    "    # Loop through data loader data batches\n",
    "    for batch, (X, y) in enumerate(dataloader):\n",
    "\n",
    "        # 1. Forward pass\n",
    "        y_pred = model(X)\n",
    "\n",
    "        # 2. Calculate  and accumulate loss\n",
    "        loss = loss_fn(y_pred, y)\n",
    "        train_loss += loss.item() \n",
    "\n",
    "        # 3. Optimizer zero grad\n",
    "        optimizer.zero_grad()\n",
    "\n",
    "        # 4. Loss backward\n",
    "        loss.backward()\n",
    "\n",
    "        # 5. Optimizer step\n",
    "        optimizer.step()\n",
    "\n",
    "        # Calculate and accumulate accuracy metric across all batches\n",
    "        y_pred_class = torch.argmax(torch.softmax(y_pred, dim=1), dim=1)\n",
    "        train_acc += (y_pred_class == y).sum().item()/len(y_pred)\n",
    "\n",
    "    # Adjust metrics to get average loss and accuracy per batch \n",
    "    train_loss = train_loss / len(dataloader)\n",
    "    train_acc = train_acc / len(dataloader)\n",
    "    return train_loss, train_acc"
   ]
  },
  {
   "cell_type": "code",
   "execution_count": 58,
   "id": "4e17d1dc",
   "metadata": {},
   "outputs": [],
   "source": [
    "def test_step(model,dataloader,loss_fn):\n",
    "    # Put model in eval mode\n",
    "    model.eval() \n",
    "    \n",
    "    # Setup test loss and test accuracy values\n",
    "    test_loss, test_acc = 0, 0\n",
    "    \n",
    "    # Turn on inference context manager\n",
    "    with torch.inference_mode():\n",
    "        # Loop through DataLoader batches\n",
    "        for batch, (X, y) in enumerate(dataloader):\n",
    "    \n",
    "            # 1. Forward pass\n",
    "            test_pred_logits = model(X)\n",
    "\n",
    "            # 2. Calculate and accumulate loss\n",
    "            loss = loss_fn(test_pred_logits, y)\n",
    "            test_loss += loss.item()\n",
    "            \n",
    "            # Calculate and accumulate accuracy\n",
    "            test_pred_labels = test_pred_logits.argmax(dim=1)\n",
    "            test_acc += ((test_pred_labels == y).sum().item()/len(test_pred_labels))\n",
    "            \n",
    "    # Adjust metrics to get average loss and accuracy per batch \n",
    "    test_loss = test_loss / len(dataloader)\n",
    "    test_acc = test_acc / len(dataloader)\n",
    "    return test_loss, test_acc"
   ]
  },
  {
   "cell_type": "code",
   "execution_count": 59,
   "id": "d1bb9e62",
   "metadata": {},
   "outputs": [],
   "source": [
    "# 1. Take in various parameters required for training and test steps\n",
    "def train(model,train_dataloader, \n",
    "          test_dataloader, optimizer,\n",
    "          loss_fn = nn.CrossEntropyLoss(),\n",
    "          epochs = 5):\n",
    "    \n",
    "    # 2. Create empty results dictionary\n",
    "    results = {\"train_loss\": [],\n",
    "        \"train_acc\": [],\n",
    "        \"test_loss\": [],\n",
    "        \"test_acc\": []\n",
    "    }\n",
    "    \n",
    "    # 3. Loop through training and testing steps for a number of epochs\n",
    "    for epoch in range(epochs):\n",
    "        train_loss, train_acc = train_step(model=model,\n",
    "                                           dataloader=train_dataloader,\n",
    "                                           loss_fn=loss_fn,\n",
    "                                           optimizer=optimizer)\n",
    "        test_loss, test_acc = test_step(model=model,\n",
    "            dataloader=test_dataloader,\n",
    "            loss_fn=loss_fn)\n",
    "        \n",
    "        # 4. Print out what's happening\n",
    "        if epoch % 5 == 4: \n",
    "            print(\n",
    "                f\"Epoch: {epoch+1} | \"\n",
    "                f\"train_loss: {train_loss:.4f} | \"\n",
    "                f\"train_acc: {train_acc:.4f} | \"\n",
    "                f\"test_loss: {test_loss:.4f} | \"\n",
    "                f\"test_acc: {test_acc:.4f}\"\n",
    "            )\n",
    "\n",
    "        # 5. Update results dictionary\n",
    "        results[\"train_loss\"].append(train_loss)\n",
    "        results[\"train_acc\"].append(train_acc)\n",
    "        results[\"test_loss\"].append(test_loss)\n",
    "        results[\"test_acc\"].append(test_acc)\n",
    "\n",
    "    # 6. Return the filled results at the end of the epochs\n",
    "    return results"
   ]
  },
  {
   "cell_type": "code",
   "execution_count": 60,
   "id": "3adc29e4",
   "metadata": {
    "scrolled": false
   },
   "outputs": [
    {
     "name": "stdout",
     "output_type": "stream",
     "text": [
      "Epoch: 5 | train_loss: 5.3654 | train_acc: 0.1663 | test_loss: 5.3366 | test_acc: 0.1957\n",
      "Epoch: 10 | train_loss: 5.3285 | train_acc: 0.2017 | test_loss: 5.3083 | test_acc: 0.2218\n",
      "Epoch: 15 | train_loss: 5.3050 | train_acc: 0.2253 | test_loss: 5.2813 | test_acc: 0.2478\n",
      "Epoch: 20 | train_loss: 5.2910 | train_acc: 0.2389 | test_loss: 5.2694 | test_acc: 0.2606\n",
      "Epoch: 25 | train_loss: 5.2812 | train_acc: 0.2482 | test_loss: 5.2676 | test_acc: 0.2615\n",
      "Epoch: 30 | train_loss: 5.2732 | train_acc: 0.2559 | test_loss: 5.2544 | test_acc: 0.2754\n",
      "Epoch: 35 | train_loss: 5.2683 | train_acc: 0.2611 | test_loss: 5.2496 | test_acc: 0.2798\n",
      "Epoch: 40 | train_loss: 5.2620 | train_acc: 0.2674 | test_loss: 5.2462 | test_acc: 0.2829\n",
      "Epoch: 45 | train_loss: 5.2573 | train_acc: 0.2716 | test_loss: 5.2351 | test_acc: 0.2933\n",
      "Epoch: 50 | train_loss: 5.2537 | train_acc: 0.2750 | test_loss: 5.2342 | test_acc: 0.2946\n",
      "Epoch: 55 | train_loss: 5.2512 | train_acc: 0.2775 | test_loss: 5.2315 | test_acc: 0.2976\n",
      "Epoch: 60 | train_loss: 5.2486 | train_acc: 0.2798 | test_loss: 5.2331 | test_acc: 0.2964\n",
      "Epoch: 65 | train_loss: 5.2446 | train_acc: 0.2839 | test_loss: 5.2291 | test_acc: 0.2998\n",
      "Epoch: 70 | train_loss: 5.2390 | train_acc: 0.2899 | test_loss: 5.2258 | test_acc: 0.3026\n",
      "Epoch: 75 | train_loss: 5.2339 | train_acc: 0.2949 | test_loss: 5.2206 | test_acc: 0.3080\n",
      "Epoch: 80 | train_loss: 5.2334 | train_acc: 0.2951 | test_loss: 5.2169 | test_acc: 0.3113\n",
      "Epoch: 85 | train_loss: 5.2292 | train_acc: 0.2994 | test_loss: 5.2181 | test_acc: 0.3102\n",
      "Epoch: 90 | train_loss: 5.2278 | train_acc: 0.3007 | test_loss: 5.2191 | test_acc: 0.3091\n",
      "Epoch: 95 | train_loss: 5.2265 | train_acc: 0.3019 | test_loss: 5.2130 | test_acc: 0.3153\n",
      "Epoch: 100 | train_loss: 5.2246 | train_acc: 0.3043 | test_loss: 5.2106 | test_acc: 0.3173\n",
      "Total training time: 813.802 seconds\n"
     ]
    },
    {
     "data": {
      "image/png": "[encoded data removed]",
      "text/plain": [
       "<Figure size 640x480 with 1 Axes>"
      ]
     },
     "metadata": {},
     "output_type": "display_data"
    }
   ],
   "source": [
    "%matplotlib inline\n",
    "# Set number of epochs\n",
    "NUM_EPOCHS = 100\n",
    "\n",
    "# Setup loss function and optimizer\n",
    "loss_fn = nn.CrossEntropyLoss()\n",
    "optimizer = torch.optim.Adam(params=model.parameters(), lr=0.001)\n",
    "\n",
    "# Start the timer\n",
    "from timeit import default_timer as timer \n",
    "start_time = timer()\n",
    "\n",
    "# Train model_0 \n",
    "model_results = train(model=model, \n",
    "                        train_dataloader=train_dataloader,\n",
    "                        test_dataloader=test_dataloader,\n",
    "                        optimizer=optimizer,\n",
    "                        loss_fn=loss_fn, \n",
    "                        epochs=NUM_EPOCHS)\n",
    "\n",
    "# End the timer and print out how long it took\n",
    "end_time = timer()\n",
    "print(f\"Total training time: {end_time-start_time:.3f} seconds\")\n",
    "plt.figure()\n",
    "plt.plot(model_results['train_acc'],label='train acc')\n",
    "plt.plot(model_results['test_acc'],label='test acc')\n",
    "plt.legend()\n",
    "plt.ylabel('accuracy')\n",
    "plt.xlabel('epoch')\n",
    "plt.show()"
   ]
  },
  {
   "cell_type": "code",
   "execution_count": null,
   "id": "ac71324e",
   "metadata": {},
   "outputs": [],
   "source": []
  }
 ],
 "metadata": {
  "kernelspec": {
   "display_name": "Python 3 (ipykernel)",
   "language": "python",
   "name": "python3"
  },
  "language_info": {
   "codemirror_mode": {
    "name": "ipython",
    "version": 3
   },
   "file_extension": ".py",
   "mimetype": "text/x-python",
   "name": "python",
   "nbconvert_exporter": "python",
   "pygments_lexer": "ipython3",
   "version": "3.9.16"
  }
 },
 "nbformat": 4,
 "nbformat_minor": 5
}
