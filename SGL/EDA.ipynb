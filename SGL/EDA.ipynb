# Install
!pip install -q itables 2> /dev/null
!pip install -q flatbuffers 2> /dev/null
!pip install -q mediapipe 2> /dev/null
